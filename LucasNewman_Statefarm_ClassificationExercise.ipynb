{
 "cells": [
  {
   "cell_type": "markdown",
   "metadata": {},
   "source": [
    "# Lucas Newman"
   ]
  },
  {
   "cell_type": "markdown",
   "metadata": {},
   "source": [
    "<p style=\"text-align: center; font-family: TimesNewRoman; font-size:3.750em;color:Black; font-style:bold\">\n",
    "\n",
    "<br>\n",
    "Statefarm Classification Exercise \n",
    "</p><br>"
   ]
  },
  {
   "cell_type": "markdown",
   "metadata": {},
   "source": [
    "<p style=\"text-align: center; font-family: TimesNewRoman; font-size:1.5em;color:Black; font-style:bold\">\n",
    "Interview for Data Science Position<br>\n",
    "    <br>by Lucas Newman<br>\n",
    "    <br/> Feb. 25th 2019"
   ]
  },
  {
   "cell_type": "markdown",
   "metadata": {},
   "source": [
    "# Basic Library Imports"
   ]
  },
  {
   "cell_type": "code",
   "execution_count": 1,
   "metadata": {},
   "outputs": [
    {
     "name": "stderr",
     "output_type": "stream",
     "text": [
      "Using TensorFlow backend.\n"
     ]
    }
   ],
   "source": [
    "#Here are some libraries we may or may not use\n",
    "from IPython.core.interactiveshell import InteractiveShell\n",
    "InteractiveShell.ast_node_interactivity = \"all\"\n",
    "import numpy as np\n",
    "import scipy as spy\n",
    "import pandas as pd\n",
    "import sklearn as sc\n",
    "import matplotlib.pyplot as plt\n",
    "import seaborn as sbn\n",
    "import graphviz as gv\n",
    "import keras as ker\n",
    "import tensorflow as tf\n",
    "%matplotlib inline"
   ]
  },
  {
   "cell_type": "markdown",
   "metadata": {},
   "source": [
    "# Data Import"
   ]
  },
  {
   "cell_type": "code",
   "execution_count": 2,
   "metadata": {},
   "outputs": [
    {
     "data": {
      "text/html": [
       "<div>\n",
       "<style scoped>\n",
       "    .dataframe tbody tr th:only-of-type {\n",
       "        vertical-align: middle;\n",
       "    }\n",
       "\n",
       "    .dataframe tbody tr th {\n",
       "        vertical-align: top;\n",
       "    }\n",
       "\n",
       "    .dataframe thead th {\n",
       "        text-align: right;\n",
       "    }\n",
       "</style>\n",
       "<table border=\"1\" class=\"dataframe\">\n",
       "  <thead>\n",
       "    <tr style=\"text-align: right;\">\n",
       "      <th></th>\n",
       "      <th>x0</th>\n",
       "      <th>x1</th>\n",
       "      <th>x2</th>\n",
       "      <th>x3</th>\n",
       "      <th>x4</th>\n",
       "      <th>x5</th>\n",
       "      <th>x6</th>\n",
       "      <th>x7</th>\n",
       "      <th>x8</th>\n",
       "      <th>x9</th>\n",
       "      <th>...</th>\n",
       "      <th>x91</th>\n",
       "      <th>x92</th>\n",
       "      <th>x93</th>\n",
       "      <th>x94</th>\n",
       "      <th>x95</th>\n",
       "      <th>x96</th>\n",
       "      <th>x97</th>\n",
       "      <th>x98</th>\n",
       "      <th>x99</th>\n",
       "      <th>y</th>\n",
       "    </tr>\n",
       "  </thead>\n",
       "  <tbody>\n",
       "    <tr>\n",
       "      <th>0</th>\n",
       "      <td>0.198560</td>\n",
       "      <td>74.425320</td>\n",
       "      <td>67.627745</td>\n",
       "      <td>-3.095111</td>\n",
       "      <td>-6.822327</td>\n",
       "      <td>19.048071</td>\n",
       "      <td>-0.362378</td>\n",
       "      <td>-10.699174</td>\n",
       "      <td>-22.699791</td>\n",
       "      <td>-1.561262</td>\n",
       "      <td>...</td>\n",
       "      <td>0.800948</td>\n",
       "      <td>1.553846</td>\n",
       "      <td>asia</td>\n",
       "      <td>-1.093926</td>\n",
       "      <td>16.202557</td>\n",
       "      <td>26.238591</td>\n",
       "      <td>-2.125570</td>\n",
       "      <td>9.644466</td>\n",
       "      <td>1.237667</td>\n",
       "      <td>0</td>\n",
       "    </tr>\n",
       "    <tr>\n",
       "      <th>1</th>\n",
       "      <td>-29.662621</td>\n",
       "      <td>24.320711</td>\n",
       "      <td>-48.205182</td>\n",
       "      <td>1.430339</td>\n",
       "      <td>-6.552206</td>\n",
       "      <td>4.263074</td>\n",
       "      <td>6.551412</td>\n",
       "      <td>4.265483</td>\n",
       "      <td>1.245095</td>\n",
       "      <td>2.246814</td>\n",
       "      <td>...</td>\n",
       "      <td>2.031707</td>\n",
       "      <td>7.544422</td>\n",
       "      <td>asia</td>\n",
       "      <td>-3.659541</td>\n",
       "      <td>29.674259</td>\n",
       "      <td>-15.141647</td>\n",
       "      <td>-36.030599</td>\n",
       "      <td>5.820376</td>\n",
       "      <td>1.952183</td>\n",
       "      <td>1</td>\n",
       "    </tr>\n",
       "    <tr>\n",
       "      <th>2</th>\n",
       "      <td>15.493759</td>\n",
       "      <td>-66.160459</td>\n",
       "      <td>50.512903</td>\n",
       "      <td>-2.265792</td>\n",
       "      <td>14.428578</td>\n",
       "      <td>2.509323</td>\n",
       "      <td>-6.707536</td>\n",
       "      <td>3.820842</td>\n",
       "      <td>-11.100833</td>\n",
       "      <td>-1.459825</td>\n",
       "      <td>...</td>\n",
       "      <td>-0.992474</td>\n",
       "      <td>1.385799</td>\n",
       "      <td>america</td>\n",
       "      <td>1.299144</td>\n",
       "      <td>33.018090</td>\n",
       "      <td>-19.914894</td>\n",
       "      <td>26.212736</td>\n",
       "      <td>2.372690</td>\n",
       "      <td>0.558988</td>\n",
       "      <td>1</td>\n",
       "    </tr>\n",
       "    <tr>\n",
       "      <th>3</th>\n",
       "      <td>-19.837651</td>\n",
       "      <td>33.210943</td>\n",
       "      <td>53.405563</td>\n",
       "      <td>1.079462</td>\n",
       "      <td>11.364251</td>\n",
       "      <td>-1.064581</td>\n",
       "      <td>9.308857</td>\n",
       "      <td>9.266076</td>\n",
       "      <td>14.552959</td>\n",
       "      <td>-2.012755</td>\n",
       "      <td>...</td>\n",
       "      <td>-1.157845</td>\n",
       "      <td>6.036804</td>\n",
       "      <td>asia</td>\n",
       "      <td>0.521396</td>\n",
       "      <td>9.664095</td>\n",
       "      <td>-27.197636</td>\n",
       "      <td>19.221130</td>\n",
       "      <td>13.382712</td>\n",
       "      <td>0.214462</td>\n",
       "      <td>0</td>\n",
       "    </tr>\n",
       "    <tr>\n",
       "      <th>4</th>\n",
       "      <td>11.896655</td>\n",
       "      <td>-26.717872</td>\n",
       "      <td>-17.758176</td>\n",
       "      <td>1.692017</td>\n",
       "      <td>21.553537</td>\n",
       "      <td>-5.852097</td>\n",
       "      <td>-0.857435</td>\n",
       "      <td>-2.186940</td>\n",
       "      <td>18.075272</td>\n",
       "      <td>-1.404618</td>\n",
       "      <td>...</td>\n",
       "      <td>-3.045511</td>\n",
       "      <td>-1.719337</td>\n",
       "      <td>asia</td>\n",
       "      <td>1.526071</td>\n",
       "      <td>-25.608326</td>\n",
       "      <td>33.383803</td>\n",
       "      <td>-5.703269</td>\n",
       "      <td>-11.023730</td>\n",
       "      <td>-1.191319</td>\n",
       "      <td>0</td>\n",
       "    </tr>\n",
       "  </tbody>\n",
       "</table>\n",
       "<p>5 rows × 101 columns</p>\n",
       "</div>"
      ],
      "text/plain": [
       "          x0         x1         x2        x3         x4         x5        x6  \\\n",
       "0   0.198560  74.425320  67.627745 -3.095111  -6.822327  19.048071 -0.362378   \n",
       "1 -29.662621  24.320711 -48.205182  1.430339  -6.552206   4.263074  6.551412   \n",
       "2  15.493759 -66.160459  50.512903 -2.265792  14.428578   2.509323 -6.707536   \n",
       "3 -19.837651  33.210943  53.405563  1.079462  11.364251  -1.064581  9.308857   \n",
       "4  11.896655 -26.717872 -17.758176  1.692017  21.553537  -5.852097 -0.857435   \n",
       "\n",
       "          x7         x8        x9  ...       x91       x92      x93       x94  \\\n",
       "0 -10.699174 -22.699791 -1.561262  ...  0.800948  1.553846     asia -1.093926   \n",
       "1   4.265483   1.245095  2.246814  ...  2.031707  7.544422     asia -3.659541   \n",
       "2   3.820842 -11.100833 -1.459825  ... -0.992474  1.385799  america  1.299144   \n",
       "3   9.266076  14.552959 -2.012755  ... -1.157845  6.036804     asia  0.521396   \n",
       "4  -2.186940  18.075272 -1.404618  ... -3.045511 -1.719337     asia  1.526071   \n",
       "\n",
       "         x95        x96        x97        x98       x99  y  \n",
       "0  16.202557  26.238591  -2.125570   9.644466  1.237667  0  \n",
       "1  29.674259 -15.141647 -36.030599   5.820376  1.952183  1  \n",
       "2  33.018090 -19.914894  26.212736   2.372690  0.558988  1  \n",
       "3   9.664095 -27.197636  19.221130  13.382712  0.214462  0  \n",
       "4 -25.608326  33.383803  -5.703269 -11.023730 -1.191319  0  \n",
       "\n",
       "[5 rows x 101 columns]"
      ]
     },
     "execution_count": 2,
     "metadata": {},
     "output_type": "execute_result"
    },
    {
     "name": "stdout",
     "output_type": "stream",
     "text": [
      "The shape of our data is: (40000, 101)\n"
     ]
    }
   ],
   "source": [
    "#Lets begin by importing our training data \n",
    "df=pd.read_csv('exercise_02_train.csv')\n",
    "#we have now created a pandas data frame for our training data\n",
    "\n",
    "#lets take a look at what it looks like\n",
    "df.head()\n",
    "\n",
    "#its shape = 40000rows x 101 columns, and our target variable, y, is the last row\n",
    "#the remaining rows are our feature/predictor variables\n",
    "print(\"The shape of our data is:\", df.shape)"
   ]
  },
  {
   "cell_type": "code",
   "execution_count": 3,
   "metadata": {},
   "outputs": [
    {
     "name": "stdout",
     "output_type": "stream",
     "text": [
      "The data types of our features are: [dtype('float64'), dtype('O')]\n",
      "The data type of our target variable is: y    int64\n",
      "dtype: object\n",
      "<class 'pandas.core.frame.DataFrame'>\n",
      "RangeIndex: 40000 entries, 0 to 39999\n",
      "Columns: 101 entries, x0 to y\n",
      "dtypes: float64(94), int64(1), object(6)\n",
      "memory usage: 30.8+ MB\n"
     ]
    }
   ],
   "source": [
    "#Lets gain some insights into the nature of our data\n",
    "\n",
    "#What kind of data types do our feature/predictior variables have\n",
    "features=df.iloc[:, 0:100] #selecting all columns but last with iloc\n",
    "featureDtypes=features.dtypes\n",
    "print(\"The data types of our features are:\", featureDtypes.unique().tolist())\n",
    "\n",
    "#Lets analyze the data type of our target variable\n",
    "target=df.iloc[:, -1:] #selecting only last column\n",
    "targetDtype=target.dtypes\n",
    "print(\"The data type of our target variable is:\", targetDtype)\n",
    "\n",
    "#conversely we could have obtained this info with the following command:\n",
    "df.info()"
   ]
  },
  {
   "cell_type": "markdown",
   "metadata": {},
   "source": [
    "Some comments about what we have done:<br><br>\n",
    "Our data set is 40,000 rows and 101 columns. Our last column is our target variable,y. The remaining are our feature variables. For our feature variables, all of them are either of type float or of type object. Our target variable is of type integer. It may seem trivial to test the data type of our target variable, considering we know this is a classification problem  since in a classification problem our target must be a discrete value; but per our data cleaning process we do the due dilligence to make sure. \n",
    "<br><br> Now the question we must find out is is the a binary classification problem or multiclass classification problem? We address this below."
   ]
  },
  {
   "cell_type": "code",
   "execution_count": 4,
   "metadata": {},
   "outputs": [
    {
     "name": "stdout",
     "output_type": "stream",
     "text": [
      "y is a binary variable.\n"
     ]
    }
   ],
   "source": [
    "#Is y a binary classifier?\n",
    "isyBinary=df['y'].unique().tolist()\n",
    "if len(isyBinary)==2:\n",
    "    print(\"y is a binary variable.\")\n",
    "else:\n",
    "    print(\"y is not a binary variable.\")\n",
    "#Thus, we conclude y is binary and we will treat this as a binary classification problem."
   ]
  },
  {
   "cell_type": "markdown",
   "metadata": {},
   "source": [
    "Before we formally begin our data cleaning, lets find out what columns of our feature variables are objects as this may pose an issue in our data cleaning process."
   ]
  },
  {
   "cell_type": "code",
   "execution_count": 5,
   "metadata": {},
   "outputs": [
    {
     "name": "stdout",
     "output_type": "stream",
     "text": [
      "Our columns that have data types of object are: Index(['x34', 'x35', 'x41', 'x45', 'x68', 'x93'], dtype='object')\n"
     ]
    },
    {
     "data": {
      "text/html": [
       "<div>\n",
       "<style scoped>\n",
       "    .dataframe tbody tr th:only-of-type {\n",
       "        vertical-align: middle;\n",
       "    }\n",
       "\n",
       "    .dataframe tbody tr th {\n",
       "        vertical-align: top;\n",
       "    }\n",
       "\n",
       "    .dataframe thead th {\n",
       "        text-align: right;\n",
       "    }\n",
       "</style>\n",
       "<table border=\"1\" class=\"dataframe\">\n",
       "  <thead>\n",
       "    <tr style=\"text-align: right;\">\n",
       "      <th></th>\n",
       "      <th>x34</th>\n",
       "      <th>x35</th>\n",
       "      <th>x41</th>\n",
       "      <th>x45</th>\n",
       "      <th>x68</th>\n",
       "      <th>x93</th>\n",
       "    </tr>\n",
       "  </thead>\n",
       "  <tbody>\n",
       "    <tr>\n",
       "      <th>0</th>\n",
       "      <td>Toyota</td>\n",
       "      <td>wed</td>\n",
       "      <td>$449.48</td>\n",
       "      <td>0.0%</td>\n",
       "      <td>Jun</td>\n",
       "      <td>asia</td>\n",
       "    </tr>\n",
       "    <tr>\n",
       "      <th>1</th>\n",
       "      <td>Honda</td>\n",
       "      <td>wed</td>\n",
       "      <td>$-525.06</td>\n",
       "      <td>0.0%</td>\n",
       "      <td>sept.</td>\n",
       "      <td>asia</td>\n",
       "    </tr>\n",
       "    <tr>\n",
       "      <th>2</th>\n",
       "      <td>bmw</td>\n",
       "      <td>wed</td>\n",
       "      <td>$-599.5</td>\n",
       "      <td>0.01%</td>\n",
       "      <td>Oct</td>\n",
       "      <td>america</td>\n",
       "    </tr>\n",
       "    <tr>\n",
       "      <th>3</th>\n",
       "      <td>volkswagon</td>\n",
       "      <td>wed</td>\n",
       "      <td>$-220.71</td>\n",
       "      <td>-0.0%</td>\n",
       "      <td>Jun</td>\n",
       "      <td>asia</td>\n",
       "    </tr>\n",
       "    <tr>\n",
       "      <th>4</th>\n",
       "      <td>volkswagon</td>\n",
       "      <td>thurday</td>\n",
       "      <td>$-1405.59</td>\n",
       "      <td>-0.0%</td>\n",
       "      <td>July</td>\n",
       "      <td>asia</td>\n",
       "    </tr>\n",
       "  </tbody>\n",
       "</table>\n",
       "</div>"
      ],
      "text/plain": [
       "          x34      x35        x41    x45    x68      x93\n",
       "0      Toyota      wed    $449.48   0.0%    Jun     asia\n",
       "1       Honda      wed   $-525.06   0.0%  sept.     asia\n",
       "2         bmw      wed    $-599.5  0.01%    Oct  america\n",
       "3  volkswagon      wed   $-220.71  -0.0%    Jun     asia\n",
       "4  volkswagon  thurday  $-1405.59  -0.0%   July     asia"
      ]
     },
     "execution_count": 5,
     "metadata": {},
     "output_type": "execute_result"
    }
   ],
   "source": [
    "data_types=pd.Series(df.dtypes)\n",
    "print(\"Our columns that have data types of object are:\", data_types[data_types == 'object'].index)\n",
    "#We can see that the columns in question are x34, x35, x41, x45, x68, and x93\n",
    "#Lets take a closer look at these columns\n",
    "object_cols=['x34', 'x35', 'x41', 'x45', 'x68', 'x93']\n",
    "df[object_cols].head()\n",
    "#Columns x41 and x45 should not be of type object/category. They are continuous numeric data so lets change that"
   ]
  },
  {
   "cell_type": "code",
   "execution_count": 6,
   "metadata": {},
   "outputs": [],
   "source": [
    "df['x41'] = df['x41'].str.replace('$', '') #get rid of dollar sign\n",
    "df['x41'] = pd.to_numeric(df['x41']) #make this numeric data type\n",
    "df['x41'] = df['x41'].astype(float) #specifically a float"
   ]
  },
  {
   "cell_type": "code",
   "execution_count": 7,
   "metadata": {},
   "outputs": [],
   "source": [
    "#Lets do the same now for col x45\n",
    "df['x45'] = df['x45'].str.replace('%', '') #get rid of %\n",
    "df['x45'] = pd.to_numeric(df['x45']) #make this numeric data type\n",
    "df['x45'] = df['x45'].astype(float) #specifically a float"
   ]
  },
  {
   "cell_type": "markdown",
   "metadata": {},
   "source": [
    "Some comments about what we did above:\n",
    "Above we noticed that columns x41 and x45 were incorrectly infered to be of type object so we changed them to numeric type, specifically floats by getting rid of the dollar sign and percent sign."
   ]
  },
  {
   "cell_type": "markdown",
   "metadata": {},
   "source": [
    "# Formal Data Cleaning"
   ]
  },
  {
   "cell_type": "code",
   "execution_count": 8,
   "metadata": {},
   "outputs": [
    {
     "name": "stdout",
     "output_type": "stream",
     "text": [
      "100\n"
     ]
    },
    {
     "data": {
      "text/plain": [
       "818"
      ]
     },
     "execution_count": 8,
     "metadata": {},
     "output_type": "execute_result"
    }
   ],
   "source": [
    "#how many of our columns have missing values?\n",
    "nulls=df.columns[df.isnull().any()].tolist()\n",
    "print(len(nulls)) #turns out every column but our y column has missing values\n",
    "features=df.iloc[:, 0:100] #lets just focus on our columns with missing values then\n",
    "\n",
    "#how many missing values do we have in each column?\n",
    "features.isnull().sum().sum()"
   ]
  },
  {
   "cell_type": "markdown",
   "metadata": {},
   "source": [
    "Here we see that all of our columns except our target variable have missing values. Also, we see in total we have 818 missing records."
   ]
  },
  {
   "cell_type": "code",
   "execution_count": 9,
   "metadata": {},
   "outputs": [
    {
     "data": {
      "text/plain": [
       "(40000, 129)"
      ]
     },
     "execution_count": 9,
     "metadata": {},
     "output_type": "execute_result"
    }
   ],
   "source": [
    "X=df.iloc[:, 0:100]\n",
    "y=df.iloc[:, -1:]\n",
    "#add dummy variables for the categorical features\n",
    "dummy_df = pd.get_dummies(X)\n",
    "dummy_df.shape#Lets see how many columns adding dummy variables causes\n",
    "column_names=dummy_df.columns.get_values() # we will need to use this later\n",
    "#So not including our target variable we now have 129 predictor variables"
   ]
  },
  {
   "cell_type": "markdown",
   "metadata": {},
   "source": [
    "Here we seperate our data set formally into X and y. Where X is all our features and y is our target. Also since we know y has no missing values we decide to seperate it from out data cleaning process.\n",
    "<br> We create dummie variables for our categorical variables, as that is the ideal manner to treat them in this scenario. We observe that our feature variable column count increased from 100 to 129, as is expected as each instance of our category was turned into a new variable taking on a value of 0 if not present or 1 if present. It is critical we encoded our categorical data with dummies before we begin imputation."
   ]
  },
  {
   "cell_type": "markdown",
   "metadata": {},
   "source": [
    "<p style=\"font-family: Arial; font-size:1.50em;color:Black; font-style:bold\">\n",
    "<br>\n",
    "Adressing Missing Data Imputation with softImpute:<br>\n",
    "    <br>Utilizing Spectral Regularization Algorithms for Learning Large Incomplete\n",
    "Matrices\n",
    "</p><br>"
   ]
  },
  {
   "cell_type": "code",
   "execution_count": 10,
   "metadata": {},
   "outputs": [
    {
     "name": "stdout",
     "output_type": "stream",
     "text": [
      "[SoftImpute] Max Singular Value of X_init = 200531.686369\n",
      "[SoftImpute] Iter 1: observed MAE=6.198555 rank=26\n",
      "[SoftImpute] Iter 2: observed MAE=6.198523 rank=26\n",
      "[SoftImpute] Iter 3: observed MAE=6.198517 rank=26\n",
      "[SoftImpute] Iter 4: observed MAE=6.198515 rank=26\n",
      "[SoftImpute] Iter 5: observed MAE=6.198513 rank=26\n",
      "[SoftImpute] Iter 6: observed MAE=6.198513 rank=26\n",
      "[SoftImpute] Iter 7: observed MAE=6.198512 rank=26\n",
      "[SoftImpute] Iter 8: observed MAE=6.198511 rank=26\n",
      "[SoftImpute] Iter 9: observed MAE=6.198511 rank=26\n",
      "[SoftImpute] Iter 10: observed MAE=6.198511 rank=26\n",
      "[SoftImpute] Iter 11: observed MAE=6.198511 rank=26\n",
      "[SoftImpute] Iter 12: observed MAE=6.198511 rank=26\n",
      "[SoftImpute] Iter 13: observed MAE=6.198511 rank=26\n",
      "[SoftImpute] Iter 14: observed MAE=6.198511 rank=26\n",
      "[SoftImpute] Iter 15: observed MAE=6.198511 rank=26\n",
      "[SoftImpute] Iter 16: observed MAE=6.198511 rank=26\n",
      "[SoftImpute] Iter 17: observed MAE=6.198511 rank=26\n",
      "[SoftImpute] Iter 18: observed MAE=6.198511 rank=26\n",
      "[SoftImpute] Iter 19: observed MAE=6.198511 rank=26\n",
      "[SoftImpute] Iter 20: observed MAE=6.198511 rank=26\n",
      "[SoftImpute] Iter 21: observed MAE=6.198511 rank=26\n",
      "[SoftImpute] Iter 22: observed MAE=6.198511 rank=26\n",
      "[SoftImpute] Iter 23: observed MAE=6.198511 rank=26\n",
      "[SoftImpute] Iter 24: observed MAE=6.198511 rank=26\n",
      "[SoftImpute] Iter 25: observed MAE=6.198511 rank=26\n",
      "[SoftImpute] Iter 26: observed MAE=6.198511 rank=26\n",
      "[SoftImpute] Iter 27: observed MAE=6.198511 rank=26\n",
      "[SoftImpute] Iter 28: observed MAE=6.198511 rank=26\n",
      "[SoftImpute] Iter 29: observed MAE=6.198511 rank=26\n",
      "[SoftImpute] Iter 30: observed MAE=6.198511 rank=26\n",
      "[SoftImpute] Iter 31: observed MAE=6.198511 rank=26\n",
      "[SoftImpute] Iter 32: observed MAE=6.198511 rank=26\n",
      "[SoftImpute] Iter 33: observed MAE=6.198511 rank=26\n",
      "[SoftImpute] Iter 34: observed MAE=6.198511 rank=26\n",
      "[SoftImpute] Iter 35: observed MAE=6.198511 rank=26\n",
      "[SoftImpute] Iter 36: observed MAE=6.198511 rank=26\n",
      "[SoftImpute] Iter 37: observed MAE=6.198511 rank=26\n",
      "[SoftImpute] Iter 38: observed MAE=6.198511 rank=26\n",
      "[SoftImpute] Iter 39: observed MAE=6.198511 rank=26\n",
      "[SoftImpute] Iter 40: observed MAE=6.198511 rank=26\n",
      "[SoftImpute] Iter 41: observed MAE=6.198511 rank=26\n",
      "[SoftImpute] Iter 42: observed MAE=6.198511 rank=26\n",
      "[SoftImpute] Iter 43: observed MAE=6.198511 rank=26\n",
      "[SoftImpute] Iter 44: observed MAE=6.198511 rank=26\n",
      "[SoftImpute] Iter 45: observed MAE=6.198511 rank=26\n",
      "[SoftImpute] Iter 46: observed MAE=6.198511 rank=26\n",
      "[SoftImpute] Iter 47: observed MAE=6.198511 rank=26\n",
      "[SoftImpute] Iter 48: observed MAE=6.198511 rank=26\n",
      "[SoftImpute] Iter 49: observed MAE=6.198511 rank=26\n",
      "[SoftImpute] Iter 50: observed MAE=6.198511 rank=26\n",
      "[SoftImpute] Iter 51: observed MAE=6.198511 rank=26\n",
      "[SoftImpute] Iter 52: observed MAE=6.198511 rank=26\n",
      "[SoftImpute] Iter 53: observed MAE=6.198511 rank=26\n",
      "[SoftImpute] Iter 54: observed MAE=6.198511 rank=26\n",
      "[SoftImpute] Iter 55: observed MAE=6.198511 rank=26\n",
      "[SoftImpute] Iter 56: observed MAE=6.198511 rank=26\n",
      "[SoftImpute] Iter 57: observed MAE=6.198511 rank=26\n",
      "[SoftImpute] Iter 58: observed MAE=6.198511 rank=26\n",
      "[SoftImpute] Iter 59: observed MAE=6.198511 rank=26\n",
      "[SoftImpute] Iter 60: observed MAE=6.198511 rank=26\n",
      "[SoftImpute] Iter 61: observed MAE=6.198511 rank=26\n",
      "[SoftImpute] Iter 62: observed MAE=6.198511 rank=26\n",
      "[SoftImpute] Iter 63: observed MAE=6.198511 rank=26\n",
      "[SoftImpute] Iter 64: observed MAE=6.198511 rank=26\n",
      "[SoftImpute] Iter 65: observed MAE=6.198511 rank=26\n",
      "[SoftImpute] Iter 66: observed MAE=6.198511 rank=26\n",
      "[SoftImpute] Iter 67: observed MAE=6.198511 rank=26\n",
      "[SoftImpute] Iter 68: observed MAE=6.198511 rank=26\n",
      "[SoftImpute] Iter 69: observed MAE=6.198511 rank=26\n",
      "[SoftImpute] Iter 70: observed MAE=6.198511 rank=26\n",
      "[SoftImpute] Iter 71: observed MAE=6.198511 rank=26\n",
      "[SoftImpute] Iter 72: observed MAE=6.198511 rank=26\n",
      "[SoftImpute] Iter 73: observed MAE=6.198511 rank=26\n",
      "[SoftImpute] Iter 74: observed MAE=6.198511 rank=26\n",
      "[SoftImpute] Iter 75: observed MAE=6.198511 rank=26\n",
      "[SoftImpute] Stopped after iteration 75 for lambda=4010.633727\n"
     ]
    }
   ],
   "source": [
    "#we will be using the library fancyimpute for some advanced imputing techniques\n",
    "from fancyimpute import SoftImpute\n",
    "X_filled = SoftImpute().fit_transform(dummy_df)\n",
    "#we impute our missing values for our predictor variables using the softImpute algorithm, which is based on \n",
    "#Spectral Regularization Algorithms for Learning Large Incomplete Matrices and works very fast"
   ]
  },
  {
   "cell_type": "markdown",
   "metadata": {},
   "source": [
    "<br> In dealing with missing data, a few very basic approaches come to mind: interpolation, bfill, ffill, pad, imputation, with mean and median, and even deleting null rows. However, all of these have consequences on our data such as: loss of information, and adding variance and bias to our model. Thus we will look towards for sophisticated imputation methods. \n",
    "<br> Often considered the gold standard, when multiple imputation (MICE) methods were tested their performance on the model was not ideal, and so we kept looking elsewhere.<br>\n",
    "To help us impute missing data we use an spectral regularization algorith (softImpute), developed by Mazumder, Hastie, and Tibshirani. The inspiration around this method is to provide a simple and efficient convex algorithm that minimizes the reconstruction error on the nuclear norm, thus providing low-rank solutions for large-scale matrix problems. The purpose is to address the issue of random graph problems with semi-definitive programming. The softImpute algorithm iteratively replaces the missing elements with those obtained from a soft-thresholded SVD, allowing one to efficiently compute an entire regularization path of solutions on a grid of values of the regularization parameter. In essence: softImpute operates via Matrix completion by iterative soft thresholding of SVD decompositions. \n",
    "<br> In python we can access the fancyimpute library to get a host of advanced imputation methods, softImpute included. The softImpute algorithm in the fancyimpute library is based on the softImpute vignette in R.\n",
    "The reason we use softImpute as opposed to some of the other algorithms in fancyimpute is due to its speed and efficieny. On large data sets the other algorithms, particularly KNN and nuclearNormMinimization are very slow. "
   ]
  },
  {
   "cell_type": "code",
   "execution_count": 11,
   "metadata": {},
   "outputs": [
    {
     "data": {
      "text/plain": [
       "(40000, 129)"
      ]
     },
     "execution_count": 11,
     "metadata": {},
     "output_type": "execute_result"
    },
    {
     "data": {
      "text/html": [
       "<div>\n",
       "<style scoped>\n",
       "    .dataframe tbody tr th:only-of-type {\n",
       "        vertical-align: middle;\n",
       "    }\n",
       "\n",
       "    .dataframe tbody tr th {\n",
       "        vertical-align: top;\n",
       "    }\n",
       "\n",
       "    .dataframe thead th {\n",
       "        text-align: right;\n",
       "    }\n",
       "</style>\n",
       "<table border=\"1\" class=\"dataframe\">\n",
       "  <thead>\n",
       "    <tr style=\"text-align: right;\">\n",
       "      <th></th>\n",
       "      <th>x0</th>\n",
       "      <th>x1</th>\n",
       "      <th>x2</th>\n",
       "      <th>x3</th>\n",
       "      <th>x4</th>\n",
       "      <th>x5</th>\n",
       "      <th>x6</th>\n",
       "      <th>x7</th>\n",
       "      <th>x8</th>\n",
       "      <th>x9</th>\n",
       "      <th>...</th>\n",
       "      <th>x68_Jun</th>\n",
       "      <th>x68_Mar</th>\n",
       "      <th>x68_May</th>\n",
       "      <th>x68_Nov</th>\n",
       "      <th>x68_Oct</th>\n",
       "      <th>x68_sept.</th>\n",
       "      <th>x93_america</th>\n",
       "      <th>x93_asia</th>\n",
       "      <th>x93_euorpe</th>\n",
       "      <th>y</th>\n",
       "    </tr>\n",
       "  </thead>\n",
       "  <tbody>\n",
       "    <tr>\n",
       "      <th>0</th>\n",
       "      <td>0.198560</td>\n",
       "      <td>74.425320</td>\n",
       "      <td>67.627745</td>\n",
       "      <td>-3.095111</td>\n",
       "      <td>-6.822327</td>\n",
       "      <td>19.048071</td>\n",
       "      <td>-0.362378</td>\n",
       "      <td>-10.699174</td>\n",
       "      <td>-22.699791</td>\n",
       "      <td>-1.561262</td>\n",
       "      <td>...</td>\n",
       "      <td>1.0</td>\n",
       "      <td>0.0</td>\n",
       "      <td>0.0</td>\n",
       "      <td>0.0</td>\n",
       "      <td>0.0</td>\n",
       "      <td>0.0</td>\n",
       "      <td>0.0</td>\n",
       "      <td>1.0</td>\n",
       "      <td>0.0</td>\n",
       "      <td>0</td>\n",
       "    </tr>\n",
       "    <tr>\n",
       "      <th>1</th>\n",
       "      <td>-29.662621</td>\n",
       "      <td>24.320711</td>\n",
       "      <td>-48.205182</td>\n",
       "      <td>1.430339</td>\n",
       "      <td>-6.552206</td>\n",
       "      <td>4.263074</td>\n",
       "      <td>6.551412</td>\n",
       "      <td>4.265483</td>\n",
       "      <td>1.245095</td>\n",
       "      <td>2.246814</td>\n",
       "      <td>...</td>\n",
       "      <td>0.0</td>\n",
       "      <td>0.0</td>\n",
       "      <td>0.0</td>\n",
       "      <td>0.0</td>\n",
       "      <td>0.0</td>\n",
       "      <td>1.0</td>\n",
       "      <td>0.0</td>\n",
       "      <td>1.0</td>\n",
       "      <td>0.0</td>\n",
       "      <td>1</td>\n",
       "    </tr>\n",
       "    <tr>\n",
       "      <th>2</th>\n",
       "      <td>15.493759</td>\n",
       "      <td>-66.160459</td>\n",
       "      <td>50.512903</td>\n",
       "      <td>-2.265792</td>\n",
       "      <td>14.428578</td>\n",
       "      <td>2.509323</td>\n",
       "      <td>-6.707536</td>\n",
       "      <td>3.820842</td>\n",
       "      <td>-11.100833</td>\n",
       "      <td>-1.459825</td>\n",
       "      <td>...</td>\n",
       "      <td>0.0</td>\n",
       "      <td>0.0</td>\n",
       "      <td>0.0</td>\n",
       "      <td>0.0</td>\n",
       "      <td>1.0</td>\n",
       "      <td>0.0</td>\n",
       "      <td>1.0</td>\n",
       "      <td>0.0</td>\n",
       "      <td>0.0</td>\n",
       "      <td>1</td>\n",
       "    </tr>\n",
       "    <tr>\n",
       "      <th>3</th>\n",
       "      <td>-19.837651</td>\n",
       "      <td>33.210943</td>\n",
       "      <td>53.405563</td>\n",
       "      <td>1.079462</td>\n",
       "      <td>11.364251</td>\n",
       "      <td>-1.064581</td>\n",
       "      <td>9.308857</td>\n",
       "      <td>9.266076</td>\n",
       "      <td>14.552959</td>\n",
       "      <td>-2.012755</td>\n",
       "      <td>...</td>\n",
       "      <td>1.0</td>\n",
       "      <td>0.0</td>\n",
       "      <td>0.0</td>\n",
       "      <td>0.0</td>\n",
       "      <td>0.0</td>\n",
       "      <td>0.0</td>\n",
       "      <td>0.0</td>\n",
       "      <td>1.0</td>\n",
       "      <td>0.0</td>\n",
       "      <td>0</td>\n",
       "    </tr>\n",
       "    <tr>\n",
       "      <th>4</th>\n",
       "      <td>11.896655</td>\n",
       "      <td>-26.717872</td>\n",
       "      <td>-17.758176</td>\n",
       "      <td>1.692017</td>\n",
       "      <td>21.553537</td>\n",
       "      <td>-5.852097</td>\n",
       "      <td>-0.857435</td>\n",
       "      <td>-2.186940</td>\n",
       "      <td>18.075272</td>\n",
       "      <td>-1.404618</td>\n",
       "      <td>...</td>\n",
       "      <td>0.0</td>\n",
       "      <td>0.0</td>\n",
       "      <td>0.0</td>\n",
       "      <td>0.0</td>\n",
       "      <td>0.0</td>\n",
       "      <td>0.0</td>\n",
       "      <td>0.0</td>\n",
       "      <td>1.0</td>\n",
       "      <td>0.0</td>\n",
       "      <td>0</td>\n",
       "    </tr>\n",
       "    <tr>\n",
       "      <th>5</th>\n",
       "      <td>20.251771</td>\n",
       "      <td>11.501431</td>\n",
       "      <td>-1.440100</td>\n",
       "      <td>-2.557572</td>\n",
       "      <td>6.187962</td>\n",
       "      <td>29.350493</td>\n",
       "      <td>-11.081426</td>\n",
       "      <td>-5.345358</td>\n",
       "      <td>-7.077396</td>\n",
       "      <td>5.437013</td>\n",
       "      <td>...</td>\n",
       "      <td>0.0</td>\n",
       "      <td>0.0</td>\n",
       "      <td>0.0</td>\n",
       "      <td>0.0</td>\n",
       "      <td>0.0</td>\n",
       "      <td>0.0</td>\n",
       "      <td>0.0</td>\n",
       "      <td>1.0</td>\n",
       "      <td>0.0</td>\n",
       "      <td>0</td>\n",
       "    </tr>\n",
       "    <tr>\n",
       "      <th>6</th>\n",
       "      <td>21.713459</td>\n",
       "      <td>-12.846885</td>\n",
       "      <td>18.719892</td>\n",
       "      <td>-3.280356</td>\n",
       "      <td>-18.539505</td>\n",
       "      <td>-11.324743</td>\n",
       "      <td>-3.258626</td>\n",
       "      <td>-5.020543</td>\n",
       "      <td>1.575918</td>\n",
       "      <td>0.250844</td>\n",
       "      <td>...</td>\n",
       "      <td>0.0</td>\n",
       "      <td>0.0</td>\n",
       "      <td>0.0</td>\n",
       "      <td>0.0</td>\n",
       "      <td>0.0</td>\n",
       "      <td>0.0</td>\n",
       "      <td>0.0</td>\n",
       "      <td>1.0</td>\n",
       "      <td>0.0</td>\n",
       "      <td>0</td>\n",
       "    </tr>\n",
       "    <tr>\n",
       "      <th>7</th>\n",
       "      <td>19.075180</td>\n",
       "      <td>-39.966356</td>\n",
       "      <td>-8.455559</td>\n",
       "      <td>-0.916628</td>\n",
       "      <td>25.265386</td>\n",
       "      <td>-23.356361</td>\n",
       "      <td>-0.171326</td>\n",
       "      <td>-2.730193</td>\n",
       "      <td>-4.042879</td>\n",
       "      <td>-2.501981</td>\n",
       "      <td>...</td>\n",
       "      <td>0.0</td>\n",
       "      <td>0.0</td>\n",
       "      <td>0.0</td>\n",
       "      <td>0.0</td>\n",
       "      <td>0.0</td>\n",
       "      <td>0.0</td>\n",
       "      <td>0.0</td>\n",
       "      <td>1.0</td>\n",
       "      <td>0.0</td>\n",
       "      <td>0</td>\n",
       "    </tr>\n",
       "    <tr>\n",
       "      <th>8</th>\n",
       "      <td>12.791579</td>\n",
       "      <td>12.790495</td>\n",
       "      <td>11.861473</td>\n",
       "      <td>-1.710228</td>\n",
       "      <td>3.239089</td>\n",
       "      <td>21.471039</td>\n",
       "      <td>8.559250</td>\n",
       "      <td>-2.960076</td>\n",
       "      <td>8.828617</td>\n",
       "      <td>-4.756963</td>\n",
       "      <td>...</td>\n",
       "      <td>0.0</td>\n",
       "      <td>0.0</td>\n",
       "      <td>0.0</td>\n",
       "      <td>0.0</td>\n",
       "      <td>0.0</td>\n",
       "      <td>0.0</td>\n",
       "      <td>0.0</td>\n",
       "      <td>1.0</td>\n",
       "      <td>0.0</td>\n",
       "      <td>0</td>\n",
       "    </tr>\n",
       "    <tr>\n",
       "      <th>9</th>\n",
       "      <td>25.894806</td>\n",
       "      <td>-9.771019</td>\n",
       "      <td>-6.367208</td>\n",
       "      <td>1.585516</td>\n",
       "      <td>13.854550</td>\n",
       "      <td>-7.555361</td>\n",
       "      <td>7.303616</td>\n",
       "      <td>0.322355</td>\n",
       "      <td>4.638250</td>\n",
       "      <td>-2.314391</td>\n",
       "      <td>...</td>\n",
       "      <td>1.0</td>\n",
       "      <td>0.0</td>\n",
       "      <td>0.0</td>\n",
       "      <td>0.0</td>\n",
       "      <td>0.0</td>\n",
       "      <td>0.0</td>\n",
       "      <td>0.0</td>\n",
       "      <td>1.0</td>\n",
       "      <td>0.0</td>\n",
       "      <td>0</td>\n",
       "    </tr>\n",
       "  </tbody>\n",
       "</table>\n",
       "<p>10 rows × 130 columns</p>\n",
       "</div>"
      ],
      "text/plain": [
       "          x0         x1         x2        x3         x4         x5         x6  \\\n",
       "0   0.198560  74.425320  67.627745 -3.095111  -6.822327  19.048071  -0.362378   \n",
       "1 -29.662621  24.320711 -48.205182  1.430339  -6.552206   4.263074   6.551412   \n",
       "2  15.493759 -66.160459  50.512903 -2.265792  14.428578   2.509323  -6.707536   \n",
       "3 -19.837651  33.210943  53.405563  1.079462  11.364251  -1.064581   9.308857   \n",
       "4  11.896655 -26.717872 -17.758176  1.692017  21.553537  -5.852097  -0.857435   \n",
       "5  20.251771  11.501431  -1.440100 -2.557572   6.187962  29.350493 -11.081426   \n",
       "6  21.713459 -12.846885  18.719892 -3.280356 -18.539505 -11.324743  -3.258626   \n",
       "7  19.075180 -39.966356  -8.455559 -0.916628  25.265386 -23.356361  -0.171326   \n",
       "8  12.791579  12.790495  11.861473 -1.710228   3.239089  21.471039   8.559250   \n",
       "9  25.894806  -9.771019  -6.367208  1.585516  13.854550  -7.555361   7.303616   \n",
       "\n",
       "          x7         x8        x9  ...  x68_Jun  x68_Mar  x68_May  x68_Nov  \\\n",
       "0 -10.699174 -22.699791 -1.561262  ...      1.0      0.0      0.0      0.0   \n",
       "1   4.265483   1.245095  2.246814  ...      0.0      0.0      0.0      0.0   \n",
       "2   3.820842 -11.100833 -1.459825  ...      0.0      0.0      0.0      0.0   \n",
       "3   9.266076  14.552959 -2.012755  ...      1.0      0.0      0.0      0.0   \n",
       "4  -2.186940  18.075272 -1.404618  ...      0.0      0.0      0.0      0.0   \n",
       "5  -5.345358  -7.077396  5.437013  ...      0.0      0.0      0.0      0.0   \n",
       "6  -5.020543   1.575918  0.250844  ...      0.0      0.0      0.0      0.0   \n",
       "7  -2.730193  -4.042879 -2.501981  ...      0.0      0.0      0.0      0.0   \n",
       "8  -2.960076   8.828617 -4.756963  ...      0.0      0.0      0.0      0.0   \n",
       "9   0.322355   4.638250 -2.314391  ...      1.0      0.0      0.0      0.0   \n",
       "\n",
       "   x68_Oct  x68_sept.  x93_america  x93_asia  x93_euorpe  y  \n",
       "0      0.0        0.0          0.0       1.0         0.0  0  \n",
       "1      0.0        1.0          0.0       1.0         0.0  1  \n",
       "2      1.0        0.0          1.0       0.0         0.0  1  \n",
       "3      0.0        0.0          0.0       1.0         0.0  0  \n",
       "4      0.0        0.0          0.0       1.0         0.0  0  \n",
       "5      0.0        0.0          0.0       1.0         0.0  0  \n",
       "6      0.0        0.0          0.0       1.0         0.0  0  \n",
       "7      0.0        0.0          0.0       1.0         0.0  0  \n",
       "8      0.0        0.0          0.0       1.0         0.0  0  \n",
       "9      0.0        0.0          0.0       1.0         0.0  0  \n",
       "\n",
       "[10 rows x 130 columns]"
      ]
     },
     "execution_count": 11,
     "metadata": {},
     "output_type": "execute_result"
    }
   ],
   "source": [
    "#Lets create our clean data\n",
    "X_filled.shape #this meets our expectations\n",
    "new_X=pd.DataFrame(X_filled) \n",
    "new_X.columns=column_names #Get our column names from our data frame with our dummy variables \n",
    "y=df.iloc[:, -1:]\n",
    "new_df=pd.concat([new_X, y], axis=1) #do along axis =1\n",
    "new_df.head(10)\n",
    "#here we merge our new cleaned predictor variables with our target variables and put it in a new data frame called\n",
    "#new_df"
   ]
  },
  {
   "cell_type": "code",
   "execution_count": 12,
   "metadata": {},
   "outputs": [
    {
     "name": "stdout",
     "output_type": "stream",
     "text": [
      "The total number of missing values in our cleaned data set is:  0\n"
     ]
    }
   ],
   "source": [
    "count_of_nulls=new_df.isnull().sum().sum()\n",
    "print(\"The total number of missing values in our cleaned data set is: \", count_of_nulls)\n",
    "clean_df=new_df.copy() #name our clean data clean_df"
   ]
  },
  {
   "cell_type": "markdown",
   "metadata": {},
   "source": [
    "Above we have now turned our clean data into a new data frame called \"new_df\" and have addressed the problem of missing data. We save our clean data to a data frame called clean_df, and this concludes our data cleaning."
   ]
  },
  {
   "cell_type": "code",
   "execution_count": 13,
   "metadata": {},
   "outputs": [],
   "source": [
    "#here is a data frame where our X's have been standardized\n",
    "from sklearn.preprocessing import StandardScaler\n",
    "scaler = StandardScaler()\n",
    "X=clean_df.iloc[:, 0:129]\n",
    "X_std=pd.DataFrame(scaler.fit_transform(X))\n",
    "X_std.columns=column_names\n",
    "y=df.iloc[:, -1:]\n",
    "Std_df=pd.concat([X_std, y], axis=1)"
   ]
  },
  {
   "cell_type": "markdown",
   "metadata": {},
   "source": [
    "# Cleaning Test Data"
   ]
  },
  {
   "cell_type": "code",
   "execution_count": 14,
   "metadata": {},
   "outputs": [],
   "source": [
    "test_df=pd.read_csv('exercise_02_test.csv')\n",
    "test_df['x41'] = test_df['x41'].str.replace('$', '') #get rid of dollar sign\n",
    "test_df['x41'] = pd.to_numeric(test_df['x41']) #make this numeric data type\n",
    "test_df['x41'] = test_df['x41'].astype(float) #specifically a float\n",
    "#Lets do the same now for col x45\n",
    "test_df['x45'] = test_df['x45'].str.replace('%', '') #get rid of %\n",
    "test_df['x45'] = pd.to_numeric(test_df['x45']) #make this numeric data type\n",
    "test_df['x45'] = test_df['x45'].astype(float) #specifically a float"
   ]
  },
  {
   "cell_type": "code",
   "execution_count": 15,
   "metadata": {},
   "outputs": [
    {
     "name": "stdout",
     "output_type": "stream",
     "text": [
      "[SoftImpute] Max Singular Value of X_init = 99408.334171\n",
      "[SoftImpute] Iter 1: observed MAE=6.155964 rank=26\n",
      "[SoftImpute] Iter 2: observed MAE=6.155923 rank=26\n",
      "[SoftImpute] Iter 3: observed MAE=6.155917 rank=26\n",
      "[SoftImpute] Iter 4: observed MAE=6.155915 rank=26\n",
      "[SoftImpute] Iter 5: observed MAE=6.155914 rank=26\n",
      "[SoftImpute] Iter 6: observed MAE=6.155913 rank=26\n",
      "[SoftImpute] Iter 7: observed MAE=6.155913 rank=26\n",
      "[SoftImpute] Iter 8: observed MAE=6.155913 rank=26\n",
      "[SoftImpute] Iter 9: observed MAE=6.155913 rank=26\n",
      "[SoftImpute] Iter 10: observed MAE=6.155912 rank=26\n",
      "[SoftImpute] Iter 11: observed MAE=6.155912 rank=26\n",
      "[SoftImpute] Iter 12: observed MAE=6.155912 rank=26\n",
      "[SoftImpute] Iter 13: observed MAE=6.155912 rank=26\n",
      "[SoftImpute] Iter 14: observed MAE=6.155912 rank=26\n",
      "[SoftImpute] Iter 15: observed MAE=6.155912 rank=26\n",
      "[SoftImpute] Iter 16: observed MAE=6.155912 rank=26\n",
      "[SoftImpute] Iter 17: observed MAE=6.155912 rank=26\n",
      "[SoftImpute] Iter 18: observed MAE=6.155912 rank=26\n",
      "[SoftImpute] Iter 19: observed MAE=6.155912 rank=26\n",
      "[SoftImpute] Iter 20: observed MAE=6.155912 rank=26\n",
      "[SoftImpute] Iter 21: observed MAE=6.155912 rank=26\n",
      "[SoftImpute] Iter 22: observed MAE=6.155912 rank=26\n",
      "[SoftImpute] Iter 23: observed MAE=6.155912 rank=26\n",
      "[SoftImpute] Iter 24: observed MAE=6.155912 rank=26\n",
      "[SoftImpute] Iter 25: observed MAE=6.155912 rank=26\n",
      "[SoftImpute] Iter 26: observed MAE=6.155912 rank=26\n",
      "[SoftImpute] Iter 27: observed MAE=6.155912 rank=26\n",
      "[SoftImpute] Iter 28: observed MAE=6.155912 rank=26\n",
      "[SoftImpute] Iter 29: observed MAE=6.155912 rank=26\n",
      "[SoftImpute] Iter 30: observed MAE=6.155912 rank=26\n",
      "[SoftImpute] Iter 31: observed MAE=6.155912 rank=26\n",
      "[SoftImpute] Iter 32: observed MAE=6.155912 rank=26\n",
      "[SoftImpute] Iter 33: observed MAE=6.155912 rank=26\n",
      "[SoftImpute] Iter 34: observed MAE=6.155912 rank=26\n",
      "[SoftImpute] Iter 35: observed MAE=6.155912 rank=26\n",
      "[SoftImpute] Iter 36: observed MAE=6.155912 rank=26\n",
      "[SoftImpute] Iter 37: observed MAE=6.155912 rank=26\n",
      "[SoftImpute] Iter 38: observed MAE=6.155912 rank=26\n",
      "[SoftImpute] Iter 39: observed MAE=6.155912 rank=26\n",
      "[SoftImpute] Iter 40: observed MAE=6.155912 rank=26\n",
      "[SoftImpute] Iter 41: observed MAE=6.155912 rank=26\n",
      "[SoftImpute] Iter 42: observed MAE=6.155912 rank=26\n",
      "[SoftImpute] Iter 43: observed MAE=6.155912 rank=26\n",
      "[SoftImpute] Iter 44: observed MAE=6.155913 rank=26\n",
      "[SoftImpute] Iter 45: observed MAE=6.155913 rank=26\n",
      "[SoftImpute] Iter 46: observed MAE=6.155913 rank=26\n",
      "[SoftImpute] Iter 47: observed MAE=6.155913 rank=26\n",
      "[SoftImpute] Iter 48: observed MAE=6.155913 rank=26\n",
      "[SoftImpute] Iter 49: observed MAE=6.155913 rank=26\n",
      "[SoftImpute] Iter 50: observed MAE=6.155913 rank=26\n",
      "[SoftImpute] Iter 51: observed MAE=6.155913 rank=26\n",
      "[SoftImpute] Iter 52: observed MAE=6.155913 rank=26\n",
      "[SoftImpute] Iter 53: observed MAE=6.155913 rank=26\n",
      "[SoftImpute] Iter 54: observed MAE=6.155913 rank=26\n",
      "[SoftImpute] Iter 55: observed MAE=6.155913 rank=26\n",
      "[SoftImpute] Iter 56: observed MAE=6.155913 rank=26\n",
      "[SoftImpute] Iter 57: observed MAE=6.155913 rank=26\n",
      "[SoftImpute] Iter 58: observed MAE=6.155913 rank=26\n",
      "[SoftImpute] Iter 59: observed MAE=6.155913 rank=26\n",
      "[SoftImpute] Iter 60: observed MAE=6.155913 rank=26\n",
      "[SoftImpute] Iter 61: observed MAE=6.155913 rank=26\n",
      "[SoftImpute] Iter 62: observed MAE=6.155913 rank=26\n",
      "[SoftImpute] Iter 63: observed MAE=6.155913 rank=26\n",
      "[SoftImpute] Iter 64: observed MAE=6.155913 rank=26\n",
      "[SoftImpute] Iter 65: observed MAE=6.155913 rank=26\n",
      "[SoftImpute] Iter 66: observed MAE=6.155913 rank=26\n",
      "[SoftImpute] Iter 67: observed MAE=6.155913 rank=26\n",
      "[SoftImpute] Iter 68: observed MAE=6.155913 rank=26\n",
      "[SoftImpute] Iter 69: observed MAE=6.155913 rank=26\n",
      "[SoftImpute] Iter 70: observed MAE=6.155913 rank=26\n",
      "[SoftImpute] Iter 71: observed MAE=6.155913 rank=26\n",
      "[SoftImpute] Iter 72: observed MAE=6.155913 rank=26\n",
      "[SoftImpute] Iter 73: observed MAE=6.155913 rank=26\n",
      "[SoftImpute] Iter 74: observed MAE=6.155913 rank=26\n",
      "[SoftImpute] Iter 75: observed MAE=6.155913 rank=26\n",
      "[SoftImpute] Iter 76: observed MAE=6.155913 rank=26\n",
      "[SoftImpute] Iter 77: observed MAE=6.155913 rank=26\n",
      "[SoftImpute] Iter 78: observed MAE=6.155913 rank=26\n",
      "[SoftImpute] Iter 79: observed MAE=6.155913 rank=26\n",
      "[SoftImpute] Iter 80: observed MAE=6.155913 rank=26\n",
      "[SoftImpute] Iter 81: observed MAE=6.155913 rank=26\n",
      "[SoftImpute] Iter 82: observed MAE=6.155913 rank=26\n",
      "[SoftImpute] Iter 83: observed MAE=6.155913 rank=26\n",
      "[SoftImpute] Iter 84: observed MAE=6.155913 rank=26\n",
      "[SoftImpute] Iter 85: observed MAE=6.155913 rank=26\n",
      "[SoftImpute] Iter 86: observed MAE=6.155913 rank=26\n",
      "[SoftImpute] Iter 87: observed MAE=6.155913 rank=26\n",
      "[SoftImpute] Iter 88: observed MAE=6.155913 rank=26\n",
      "[SoftImpute] Iter 89: observed MAE=6.155913 rank=26\n",
      "[SoftImpute] Iter 90: observed MAE=6.155913 rank=26\n",
      "[SoftImpute] Iter 91: observed MAE=6.155913 rank=26\n",
      "[SoftImpute] Iter 92: observed MAE=6.155913 rank=26\n",
      "[SoftImpute] Iter 93: observed MAE=6.155913 rank=26\n",
      "[SoftImpute] Iter 94: observed MAE=6.155913 rank=26\n",
      "[SoftImpute] Iter 95: observed MAE=6.155913 rank=26\n",
      "[SoftImpute] Iter 96: observed MAE=6.155913 rank=26\n",
      "[SoftImpute] Iter 97: observed MAE=6.155913 rank=26\n",
      "[SoftImpute] Iter 98: observed MAE=6.155913 rank=26\n",
      "[SoftImpute] Iter 99: observed MAE=6.155913 rank=26\n",
      "[SoftImpute] Iter 100: observed MAE=6.155913 rank=26\n",
      "[SoftImpute] Stopped after iteration 100 for lambda=1988.166683\n"
     ]
    }
   ],
   "source": [
    "test_dummy_df = pd.get_dummies(test_df) #imputing missing values\n",
    "X_filled_test = SoftImpute().fit_transform(test_dummy_df)"
   ]
  },
  {
   "cell_type": "markdown",
   "metadata": {},
   "source": [
    "We have now cleaned X_test in the same manner as we did with our training data."
   ]
  },
  {
   "cell_type": "code",
   "execution_count": 16,
   "metadata": {},
   "outputs": [
    {
     "data": {
      "text/plain": [
       "(10000, 129)"
      ]
     },
     "execution_count": 16,
     "metadata": {},
     "output_type": "execute_result"
    }
   ],
   "source": [
    "X_filled_test.shape"
   ]
  },
  {
   "cell_type": "markdown",
   "metadata": {},
   "source": [
    "# Predictive Modeling Set-Up"
   ]
  },
  {
   "cell_type": "code",
   "execution_count": 17,
   "metadata": {},
   "outputs": [
    {
     "name": "stdout",
     "output_type": "stream",
     "text": [
      "The shape of X_test is: (10000, 129)\n",
      "Shape of X_train: (40000, 129)\n",
      "Shape of y: (40000,)\n"
     ]
    }
   ],
   "source": [
    "columns=clean_df.columns.get_values() #our reference for column names if we need\n",
    "\n",
    "test_data=X_filled_test\n",
    "print(\"The shape of X_test is:\", test_data.shape)\n",
    "\n",
    "X_trainDF=clean_df.iloc[:, 0:129] #our features from our training set are X_trainDF\n",
    "train=np.array(X_trainDF) #turn X_trainDF into an array\n",
    "print(\"Shape of X_train:\",train.shape)\n",
    "\n",
    "\n",
    "\n",
    "\n",
    "y_df=clean_df.iloc[:, -1:] #our supervised examples we will learn from\n",
    "y=y_df.values.ravel() #return a 1-D array of our y\n",
    "print(\"Shape of y:\" ,y.shape)\n"
   ]
  },
  {
   "cell_type": "code",
   "execution_count": 18,
   "metadata": {},
   "outputs": [],
   "source": [
    "from sklearn.model_selection import train_test_split\n",
    "X_train,X_test,y_train,y_test=train_test_split(train,y,test_size=0.3,random_state=42)\n"
   ]
  },
  {
   "cell_type": "markdown",
   "metadata": {},
   "source": [
    "# Running a Basic Logistic Regression Model Out of the Box"
   ]
  },
  {
   "cell_type": "code",
   "execution_count": 19,
   "metadata": {},
   "outputs": [
    {
     "data": {
      "text/plain": [
       "LogisticRegression(C=1.0, class_weight=None, dual=False, fit_intercept=True,\n",
       "          intercept_scaling=1, max_iter=100, multi_class='warn',\n",
       "          n_jobs=None, penalty='l2', random_state=42, solver='liblinear',\n",
       "          tol=0.0001, verbose=0, warm_start=False)"
      ]
     },
     "execution_count": 19,
     "metadata": {},
     "output_type": "execute_result"
    },
    {
     "name": "stdout",
     "output_type": "stream",
     "text": [
      "The score of our basic un-tuned logistic regression model is: 0.8888333333333334\n"
     ]
    }
   ],
   "source": [
    "#logistic regression out of the box\n",
    "from sklearn.linear_model import LogisticRegression\n",
    "log_reg = LogisticRegression(solver=\"liblinear\", random_state=42)\n",
    "log_reg.fit(X_train, y_train)\n",
    "basic_logreg_score=log_reg.score(X_test, y_test)\n",
    "basic_logreg_predictions=log_reg.predict(test_data)\n",
    "logistic_regression1_predictions=log_reg.predict_proba(test_data)\n",
    "print(\"The score of our basic un-tuned logistic regression model is:\", basic_logreg_score)"
   ]
  },
  {
   "cell_type": "markdown",
   "metadata": {},
   "source": [
    "# Creating a Predictive Pipe Line optimized with GridSearch using Logistic Regression and Random Forests"
   ]
  },
  {
   "cell_type": "code",
   "execution_count": 20,
   "metadata": {},
   "outputs": [
    {
     "name": "stdout",
     "output_type": "stream",
     "text": [
      "Fitting 5 folds for each of 124 candidates, totalling 620 fits\n"
     ]
    },
    {
     "name": "stderr",
     "output_type": "stream",
     "text": [
      "[Parallel(n_jobs=3)]: Using backend LokyBackend with 3 concurrent workers.\n",
      "[Parallel(n_jobs=3)]: Done  44 tasks      | elapsed:   36.8s\n",
      "[Parallel(n_jobs=3)]: Done 194 tasks      | elapsed: 23.9min\n",
      "[Parallel(n_jobs=3)]: Done 444 tasks      | elapsed: 54.8min\n",
      "[Parallel(n_jobs=3)]: Done 620 out of 620 | elapsed: 111.0min finished\n"
     ]
    }
   ],
   "source": [
    "#creating a pipeline \n",
    "#conducting hyperparamter tuning with gridsearch cv\n",
    "#fitting to random forest and logistic regression and chosing best one\n",
    "from sklearn.pipeline import Pipeline\n",
    "from sklearn.ensemble import RandomForestClassifier\n",
    "from sklearn.model_selection import GridSearchCV\n",
    "# Create first pipeline for base without reducing features.\n",
    "\n",
    "pipe = Pipeline([('classifier' , RandomForestClassifier())])\n",
    "# pipe = Pipeline([('classifier', RandomForestClassifier())])\n",
    "\n",
    "# Create param grid.\n",
    "\n",
    "param_grid = [\n",
    "    {'classifier' : [LogisticRegression()],\n",
    "     'classifier__penalty' : ['l1', 'l2'],\n",
    "    'classifier__C' : np.logspace(-4, 4, 20),\n",
    "    'classifier__solver' : ['liblinear']},\n",
    "    {'classifier' : [RandomForestClassifier()],\n",
    "    'classifier__n_estimators' : list(range(10,129,10)),\n",
    "    'classifier__max_features' : list(range(5,40,5))}\n",
    "]\n",
    "\n",
    "# Create grid search object\n",
    "\n",
    "clf = GridSearchCV(pipe, param_grid = param_grid, cv = 5, verbose=True, n_jobs=3)\n",
    "\n",
    "# Fit on data\n",
    "\n",
    "best_clf = clf.fit(X_train, y_train)"
   ]
  },
  {
   "cell_type": "code",
   "execution_count": 21,
   "metadata": {},
   "outputs": [
    {
     "name": "stdout",
     "output_type": "stream",
     "text": [
      "The hyper parameters of our best classifier are: RandomForestClassifier(bootstrap=True, class_weight=None, criterion='gini',\n",
      "            max_depth=None, max_features=35, max_leaf_nodes=None,\n",
      "            min_impurity_decrease=0.0, min_impurity_split=None,\n",
      "            min_samples_leaf=1, min_samples_split=2,\n",
      "            min_weight_fraction_leaf=0.0, n_estimators=120, n_jobs=None,\n",
      "            oob_score=False, random_state=None, verbose=0,\n",
      "            warm_start=False)\n"
     ]
    }
   ],
   "source": [
    "#what are the best parameters\n",
    "hyper_params=best_clf.best_estimator_.get_params()['classifier']\n",
    "print(\"The hyper parameters of our best classifier are:\", hyper_params)"
   ]
  },
  {
   "cell_type": "code",
   "execution_count": 23,
   "metadata": {},
   "outputs": [
    {
     "name": "stdout",
     "output_type": "stream",
     "text": [
      "The score for our best classifier is:  0.9011666666666667\n"
     ]
    }
   ],
   "source": [
    "#model scoring\n",
    "best_clf_score=best_clf.score(X_test, y_test)\n",
    "predictions=best_clf.predict(X_test)\n",
    "probabilities=best_clf.predict_proba(X_test)\n",
    "New_predictions=best_clf.predict(test_data)\n",
    "New_prediction_probs=best_clf.predict_proba(test_data) #here we predict probabilities of classes on our test data\n",
    "print(\"The score for our best classifier is: \", best_clf_score)"
   ]
  },
  {
   "cell_type": "code",
   "execution_count": 27,
   "metadata": {},
   "outputs": [
    {
     "name": "stderr",
     "output_type": "stream",
     "text": [
      "/Users/lucasnewman/anaconda3/lib/python3.6/site-packages/sklearn/metrics/ranking.py:656: UndefinedMetricWarning: No positive samples in y_true, true positive value should be meaningless\n",
      "  UndefinedMetricWarning)\n"
     ]
    },
    {
     "data": {
      "text/plain": [
       "<Figure size 432x288 with 0 Axes>"
      ]
     },
     "execution_count": 27,
     "metadata": {},
     "output_type": "execute_result"
    },
    {
     "data": {
      "text/plain": [
       "[<matplotlib.lines.Line2D at 0x1a3b1787b8>]"
      ]
     },
     "execution_count": 27,
     "metadata": {},
     "output_type": "execute_result"
    },
    {
     "data": {
      "text/plain": [
       "[<matplotlib.lines.Line2D at 0x1a1c042320>]"
      ]
     },
     "execution_count": 27,
     "metadata": {},
     "output_type": "execute_result"
    },
    {
     "data": {
      "text/plain": [
       "(0.0, 1.0)"
      ]
     },
     "execution_count": 27,
     "metadata": {},
     "output_type": "execute_result"
    },
    {
     "data": {
      "text/plain": [
       "(0.0, 1.05)"
      ]
     },
     "execution_count": 27,
     "metadata": {},
     "output_type": "execute_result"
    },
    {
     "data": {
      "text/plain": [
       "Text(0.5, 0, 'False Positive Rate')"
      ]
     },
     "execution_count": 27,
     "metadata": {},
     "output_type": "execute_result"
    },
    {
     "data": {
      "text/plain": [
       "Text(0, 0.5, 'True Positive Rate')"
      ]
     },
     "execution_count": 27,
     "metadata": {},
     "output_type": "execute_result"
    },
    {
     "data": {
      "text/plain": [
       "Text(0.5, 1.0, 'Receiver operating characteristic (ROC)')"
      ]
     },
     "execution_count": 27,
     "metadata": {},
     "output_type": "execute_result"
    },
    {
     "data": {
      "text/plain": [
       "<matplotlib.legend.Legend at 0x1a3b2242e8>"
      ]
     },
     "execution_count": 27,
     "metadata": {},
     "output_type": "execute_result"
    },
    {
     "data": {
      "image/png": "[encoded data removed]",
      "text/plain": [
       "<Figure size 432x288 with 1 Axes>"
      ]
     },
     "metadata": {
      "needs_background": "light"
     },
     "output_type": "display_data"
    }
   ],
   "source": [
    "#plot ROC\n",
    "from sklearn import metrics\n",
    "fpr, tpr, thresholds = metrics.roc_curve(y_test, predictions, pos_label=2)\n",
    "\n",
    "hypothesis_probs = best_clf.predict_proba(X_test)\n",
    "hypothesis_preds = hypothesis_probs[:,1]\n",
    "fpr, tpr, threshold = metrics.roc_curve(y_test, hypothesis_preds)\n",
    "roc_auc = metrics.auc(fpr, tpr)\n",
    "\n",
    "plt.figure()\n",
    "plt.plot(fpr, tpr, label='GridSearchCV (area = %0.2f)' % roc_auc)\n",
    "plt.plot([0, 1], [0, 1],'r--')\n",
    "plt.xlim([0.0, 1.0])\n",
    "plt.ylim([0.0, 1.05])\n",
    "plt.xlabel('False Positive Rate')\n",
    "plt.ylabel('True Positive Rate')\n",
    "plt.title('Receiver operating characteristic (ROC)')\n",
    "plt.legend(loc=\"lower right\")\n",
    "plt.savefig('ROC Curve')\n",
    "plt.show()"
   ]
  },
  {
   "cell_type": "code",
   "execution_count": 28,
   "metadata": {},
   "outputs": [
    {
     "name": "stdout",
     "output_type": "stream",
     "text": [
      "The AUC of the best classifier found via GridSearch is: 0.9666869036732862\n"
     ]
    }
   ],
   "source": [
    "print(\"The AUC of the best classifier found via GridSearch is:\", roc_auc)"
   ]
  },
  {
   "cell_type": "code",
   "execution_count": 31,
   "metadata": {},
   "outputs": [
    {
     "name": "stdout",
     "output_type": "stream",
     "text": [
      "The model accuracy is:  0.9011666666666667 \n",
      " While the model precision is: 0.5177685950413223\n",
      "\n",
      "Here is the classification report:\n",
      "               precision    recall  f1-score   support\n",
      "\n",
      "           0       1.00      0.89      0.94     10728\n",
      "           1       0.52      0.99      0.68      1272\n",
      "\n",
      "   micro avg       0.90      0.90      0.90     12000\n",
      "   macro avg       0.76      0.94      0.81     12000\n",
      "weighted avg       0.95      0.90      0.91     12000\n",
      "\n"
     ]
    }
   ],
   "source": [
    "#Model evaluation metrics\n",
    "hypothesis = best_clf.predict(X_test)\n",
    "    \n",
    "accuracy = metrics.accuracy_score(hypothesis, y_test)\n",
    "    \n",
    "balanced_accuracy = metrics.balanced_accuracy_score(hypothesis, y_test)\n",
    "\n",
    "precision = metrics.precision_score(hypothesis, y_test)\n",
    "    \n",
    "average_precision = metrics.average_precision_score(hypothesis, y_test)\n",
    "    \n",
    "f1_score = metrics.f1_score(hypothesis, y_test)\n",
    "    \n",
    "recall = metrics.recall_score(hypothesis, y_test)\n",
    "\n",
    "print(\"The model accuracy is: \", accuracy, \"\\n While the model precision is:\", precision)\n",
    "print(\"\\nHere is the classification report:\\n\", metrics.classification_report(hypothesis, y_test))"
   ]
  },
  {
   "cell_type": "code",
   "execution_count": 60,
   "metadata": {},
   "outputs": [
    {
     "data": {
      "image/png": "[encoded data removed]",
      "text/plain": [
       "<Figure size 432x288 with 1 Axes>"
      ]
     },
     "metadata": {
      "needs_background": "light"
     },
     "output_type": "display_data"
    }
   ],
   "source": [
    "#confusion matrix for classifier 1\n",
    "from sklearn.metrics import confusion_matrix\n",
    "y_true = y_test\n",
    "y_pred=best_clf.predict(X_test)\n",
    "confusion_matrix(y_true, y_pred)\n",
    "\n",
    "import seaborn as sns \n",
    "mat = confusion_matrix(y_true, y_pred)\n",
    "sns.heatmap(mat, square=True, annot=True, cbar=False)\n",
    "plt.xlabel('predicted value')\n",
    "plt.ylabel('true value');"
   ]
  },
  {
   "cell_type": "markdown",
   "metadata": {},
   "source": [
    "# Results1 to CSV"
   ]
  },
  {
   "cell_type": "code",
   "execution_count": 33,
   "metadata": {},
   "outputs": [
    {
     "data": {
      "text/plain": [
       "(10000, 2)"
      ]
     },
     "execution_count": 33,
     "metadata": {},
     "output_type": "execute_result"
    }
   ],
   "source": [
    "#Recall \n",
    "New_predictions=best_clf.predict(test_data)\n",
    "New_prediction_probs=best_clf.predict_proba(test_data) #here we predict probabilities of classes on our test data\n",
    "\n",
    "#Export our resulting probability estimates for classes in test data to csv\n",
    "Results1=pd.DataFrame(New_prediction_probs)\n",
    "Results1.columns=['Class 0', 'Class 1']\n",
    "Results1.shape #This is the correct shape as we predict 10,000 examples and get the probabilities for 2 classes\n",
    "Results1.to_csv(\"Results1.csv\", index=False, encoding='utf-8')"
   ]
  },
  {
   "cell_type": "markdown",
   "metadata": {},
   "source": [
    "# Classifier 2"
   ]
  },
  {
   "cell_type": "code",
   "execution_count": 49,
   "metadata": {},
   "outputs": [
    {
     "data": {
      "text/plain": [
       "LinearDiscriminantAnalysis(n_components=None, priors=None, shrinkage=None,\n",
       "              solver='svd', store_covariance=False, tol=0.0001)"
      ]
     },
     "execution_count": 49,
     "metadata": {},
     "output_type": "execute_result"
    },
    {
     "data": {
      "text/plain": [
       "0.8900833333333333"
      ]
     },
     "execution_count": 49,
     "metadata": {},
     "output_type": "execute_result"
    }
   ],
   "source": [
    "#out of the box lda\n",
    "from sklearn.discriminant_analysis import LinearDiscriminantAnalysis\n",
    "clf = LinearDiscriminantAnalysis(solver='svd', shrinkage=None, priors=None, n_components=None, store_covariance=False, tol=0.0001)\n",
    "clf.fit(X_train, y_train)\n",
    "clf.score(X_test, y_test)"
   ]
  },
  {
   "cell_type": "code",
   "execution_count": 47,
   "metadata": {},
   "outputs": [
    {
     "name": "stdout",
     "output_type": "stream",
     "text": [
      "Fitting 5 folds for each of 124 candidates, totalling 620 fits\n"
     ]
    },
    {
     "name": "stderr",
     "output_type": "stream",
     "text": [
      "[Parallel(n_jobs=3)]: Using backend LokyBackend with 3 concurrent workers.\n",
      "[Parallel(n_jobs=3)]: Done  44 tasks      | elapsed:   38.1s\n",
      "[Parallel(n_jobs=3)]: Done 194 tasks      | elapsed: 23.7min\n",
      "[Parallel(n_jobs=3)]: Done 444 tasks      | elapsed: 55.5min\n",
      "[Parallel(n_jobs=3)]: Done 620 out of 620 | elapsed: 112.1min finished\n"
     ]
    }
   ],
   "source": [
    "#hyperparamter tuning fitting a pipeline with GBM\n",
    "from sklearn.pipeline import Pipeline\n",
    "from sklearn.ensemble import GradientBoostingClassifier\n",
    "from sklearn.discriminant_analysis import LinearDiscriminantAnalysis\n",
    "from sklearn.model_selection import GridSearchCV\n",
    "\n",
    "pipe2 = Pipeline([('classifier' , GradientBoostingClassifier())])\n",
    "\n",
    "\n",
    "# Create param grid.\n",
    "\n",
    "param_grid2 = [\n",
    "    {'classifier' : [LinearDiscriminantAnalysis()],\n",
    "    'classifier__solver' : ['svd', 'lsqr', 'eigen'],\n",
    "    'classifier__n_components' : np.linspace(10, 129, 10),\n",
    "    'classifier__shrinkage' : ['auto']},\n",
    "    {'classifier' : [GradientBoostingClassifier()],\n",
    "     'classifier_learning_rate' : np.linspace(0.0, 1.0, num=10),\n",
    "     'classifier_max_depth' : np.linspace(1, 36, 36, endpoint=True),\n",
    "     'classifier_min_samples_split' : np.linspace(0.1, 1.0, 10, endpoint=True),\n",
    "     'classifier_min_samples_leaf' : np.linspace(0.1, 0.5, 5, endpoint=True),\n",
    "    'classifier__n_estimators' : list(range(10,129,10)),\n",
    "    'classifier__max_features' : list(range(6,36,5))} \n",
    "]\n",
    "\n",
    "# Create grid search object\n",
    "\n",
    "clf2 = GridSearchCV(pipe2, param_grid = param_grid2, cv = 5, verbose=True, n_jobs=4)\n",
    "\n",
    "# Fit on data\n",
    "\n",
    "best_clf2 = clf.fit(X_train, y_train)"
   ]
  },
  {
   "cell_type": "code",
   "execution_count": 52,
   "metadata": {},
   "outputs": [
    {
     "name": "stdout",
     "output_type": "stream",
     "text": [
      "The hyper parameters of our best classifier are: RandomForestClassifier(bootstrap=True, class_weight=None, criterion='gini',\n",
      "            max_depth=None, max_features=35, max_leaf_nodes=None,\n",
      "            min_impurity_decrease=0.0, min_impurity_split=None,\n",
      "            min_samples_leaf=1, min_samples_split=2,\n",
      "            min_weight_fraction_leaf=0.0, n_estimators=120, n_jobs=None,\n",
      "            oob_score=False, random_state=None, verbose=0,\n",
      "            warm_start=False)\n"
     ]
    }
   ],
   "source": [
    "hyper_params2=best_clf2.best_estimator_.get_params()['classifier']\n",
    "print(\"The hyper parameters of our best classifier are:\", hyper_params2)"
   ]
  },
  {
   "cell_type": "code",
   "execution_count": 53,
   "metadata": {},
   "outputs": [
    {
     "name": "stdout",
     "output_type": "stream",
     "text": [
      "The score for our best classifier is:  0.9008333333333334\n"
     ]
    }
   ],
   "source": [
    "#Scoring\n",
    "best_clf2_score=best_clf2.score(X_test, y_test)\n",
    "predictions2=best_clf2.predict(X_test)\n",
    "probabilities2=best_clf2.predict_proba(X_test)\n",
    "New_predictions2=best_clf2.predict(test_data)\n",
    "New_prediction_probs2=best_clf2.predict_proba(test_data) #here we predict probabilities of classes on our test data\n",
    "print(\"The score for our best classifier is: \", best_clf2_score)\n"
   ]
  },
  {
   "cell_type": "code",
   "execution_count": 54,
   "metadata": {},
   "outputs": [
    {
     "name": "stderr",
     "output_type": "stream",
     "text": [
      "/Users/lucasnewman/anaconda3/lib/python3.6/site-packages/sklearn/metrics/ranking.py:656: UndefinedMetricWarning: No positive samples in y_true, true positive value should be meaningless\n",
      "  UndefinedMetricWarning)\n"
     ]
    },
    {
     "data": {
      "text/plain": [
       "<Figure size 432x288 with 0 Axes>"
      ]
     },
     "execution_count": 54,
     "metadata": {},
     "output_type": "execute_result"
    },
    {
     "data": {
      "text/plain": [
       "[<matplotlib.lines.Line2D at 0x1a411c7cc0>]"
      ]
     },
     "execution_count": 54,
     "metadata": {},
     "output_type": "execute_result"
    },
    {
     "data": {
      "text/plain": [
       "[<matplotlib.lines.Line2D at 0x1a4062fa58>]"
      ]
     },
     "execution_count": 54,
     "metadata": {},
     "output_type": "execute_result"
    },
    {
     "data": {
      "text/plain": [
       "(0.0, 1.0)"
      ]
     },
     "execution_count": 54,
     "metadata": {},
     "output_type": "execute_result"
    },
    {
     "data": {
      "text/plain": [
       "(0.0, 1.05)"
      ]
     },
     "execution_count": 54,
     "metadata": {},
     "output_type": "execute_result"
    },
    {
     "data": {
      "text/plain": [
       "Text(0.5, 0, 'False Positive Rate')"
      ]
     },
     "execution_count": 54,
     "metadata": {},
     "output_type": "execute_result"
    },
    {
     "data": {
      "text/plain": [
       "Text(0, 0.5, 'True Positive Rate')"
      ]
     },
     "execution_count": 54,
     "metadata": {},
     "output_type": "execute_result"
    },
    {
     "data": {
      "text/plain": [
       "Text(0.5, 1.0, 'Receiver operating characteristic (ROC) for classifier 2')"
      ]
     },
     "execution_count": 54,
     "metadata": {},
     "output_type": "execute_result"
    },
    {
     "data": {
      "text/plain": [
       "<matplotlib.legend.Legend at 0x1a45434828>"
      ]
     },
     "execution_count": 54,
     "metadata": {},
     "output_type": "execute_result"
    },
    {
     "data": {
      "image/png": "[encoded data removed]",
      "text/plain": [
       "<Figure size 432x288 with 1 Axes>"
      ]
     },
     "metadata": {
      "needs_background": "light"
     },
     "output_type": "display_data"
    }
   ],
   "source": [
    "#metrics\n",
    "from sklearn import metrics\n",
    "fpr2, tpr2, thresholds2 = metrics.roc_curve(y_test, predictions, pos_label=2)\n",
    "\n",
    "hypothesis_probs2 = best_clf2.predict_proba(X_test)\n",
    "hypothesis_preds2 = hypothesis_probs2[:,1]\n",
    "fpr2, tpr2, threshold2 = metrics.roc_curve(y_test, hypothesis_preds2)\n",
    "roc_auc2 = metrics.auc(fpr2, tpr2)\n",
    "\n",
    "plt.figure()\n",
    "plt.plot(fpr, tpr, label='GridSearchCV (area = %0.2f)' % roc_auc2)\n",
    "plt.plot([0, 1], [0, 1],'r--')\n",
    "plt.xlim([0.0, 1.0])\n",
    "plt.ylim([0.0, 1.05])\n",
    "plt.xlabel('False Positive Rate')\n",
    "plt.ylabel('True Positive Rate')\n",
    "plt.title('Receiver operating characteristic (ROC) for classifier 2')\n",
    "plt.legend(loc=\"lower right\")\n",
    "plt.savefig('ROC Curve for Classifier2 ')\n",
    "plt.show()"
   ]
  },
  {
   "cell_type": "code",
   "execution_count": 55,
   "metadata": {},
   "outputs": [
    {
     "name": "stdout",
     "output_type": "stream",
     "text": [
      "The AUC of the best classifier found via GridSearch is: 0.967679372487448\n"
     ]
    }
   ],
   "source": [
    "print(\"The AUC of the best classifier found via GridSearch is:\", roc_auc2)"
   ]
  },
  {
   "cell_type": "code",
   "execution_count": 57,
   "metadata": {},
   "outputs": [
    {
     "name": "stdout",
     "output_type": "stream",
     "text": [
      "The model accuracy is:  0.9008333333333334 \n",
      " While the model precision is: 0.515702479338843\n",
      "\n",
      "Here is the classification report:\n",
      "               precision    recall  f1-score   support\n",
      "\n",
      "           0       1.00      0.89      0.94     10734\n",
      "           1       0.52      0.99      0.68      1266\n",
      "\n",
      "   micro avg       0.90      0.90      0.90     12000\n",
      "   macro avg       0.76      0.94      0.81     12000\n",
      "weighted avg       0.95      0.90      0.91     12000\n",
      "\n"
     ]
    }
   ],
   "source": [
    "#classifier metrics\n",
    "hypothesis2 = best_clf2.predict(X_test)\n",
    "    \n",
    "accuracy2 = metrics.accuracy_score(hypothesis2, y_test)\n",
    "    \n",
    "balanced_accuracy2 = metrics.balanced_accuracy_score(hypothesis2, y_test)\n",
    "\n",
    "precision2 = metrics.precision_score(hypothesis2, y_test)\n",
    "    \n",
    "average_precision2 = metrics.average_precision_score(hypothesis2, y_test)\n",
    "    \n",
    "f1_score2 = metrics.f1_score(hypothesis2, y_test)\n",
    "    \n",
    "recall2 = metrics.recall_score(hypothesis2, y_test)\n",
    "\n",
    "print(\"The model accuracy is: \", accuracy2, \"\\n While the model precision is:\", precision2)\n",
    "print(\"\\nHere is the classification report:\\n\", metrics.classification_report(hypothesis2, y_test))"
   ]
  },
  {
   "cell_type": "code",
   "execution_count": 61,
   "metadata": {},
   "outputs": [
    {
     "data": {
      "image/png": "[encoded data removed]",
      "text/plain": [
       "<Figure size 432x288 with 1 Axes>"
      ]
     },
     "metadata": {
      "needs_background": "light"
     },
     "output_type": "display_data"
    }
   ],
   "source": [
    "#confusion matrix for classifier 2\n",
    "from sklearn.metrics import confusion_matrix\n",
    "y_true2 = y_test\n",
    "y_pred2=best_clf2.predict(X_test)\n",
    "confusion_matrix(y_true2, y_pred2)\n",
    "\n",
    "import seaborn as sns \n",
    "mat2 = confusion_matrix(y_true2, y_pred2)\n",
    "sns.heatmap(mat, square=True, annot=True, cbar=False)\n",
    "plt.xlabel('predicted value')\n",
    "plt.ylabel('true value');"
   ]
  },
  {
   "cell_type": "markdown",
   "metadata": {},
   "source": [
    "# Results 2 to CSV"
   ]
  },
  {
   "cell_type": "code",
   "execution_count": 58,
   "metadata": {},
   "outputs": [
    {
     "data": {
      "text/plain": [
       "(10000, 2)"
      ]
     },
     "execution_count": 58,
     "metadata": {},
     "output_type": "execute_result"
    }
   ],
   "source": [
    "#Recall \n",
    "New_predictions2=best_clf2.predict(test_data)\n",
    "New_prediction_probs2=best_clf2.predict_proba(test_data) #here we predict probabilities of classes on our test data\n",
    "\n",
    "#Export our resulting probability estimates for classes in test data to csv\n",
    "Results2=pd.DataFrame(New_prediction_probs2)\n",
    "Results2.columns=['Class 0', 'Class 1']\n",
    "Results2.shape #This is the correct shape as we predict 10,000 examples and get the probabilities for 2 classes\n",
    "Results2.to_csv(\"Results2.csv\", index=False, encoding='utf-8')\n"
   ]
  }
 ],
 "metadata": {
  "kernelspec": {
   "display_name": "Python 3",
   "language": "python",
   "name": "python3"
  },
  "language_info": {
   "codemirror_mode": {
    "name": "ipython",
    "version": 3
   },
   "file_extension": ".py",
   "mimetype": "text/x-python",
   "name": "python",
   "nbconvert_exporter": "python",
   "pygments_lexer": "ipython3",
   "version": "3.6.8"
  }
 },
 "nbformat": 4,
 "nbformat_minor": 2
}
